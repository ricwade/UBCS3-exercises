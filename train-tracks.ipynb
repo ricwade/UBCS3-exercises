{
 "cells": [
  {
   "cell_type": "markdown",
   "metadata": {},
   "source": [
    "# UBC Scientific Software Seminar\n",
    "\n",
    "I'm making these notes for our UBC seminar about collaborative scientific software. I'll give a description about the reason why I am interested in these notes.\n",
    "\n",
    "## Contents\n",
    "\n",
    "*Motivation\n",
    "\n",
    "### Motivation\n",
    "\n",
    "I like group theory. I spend a lot of time thinking about free groups and their automorphisms. Often we use $F_n$ to describe a free group with $n$ generators and $\\rm{{Aut}}(F_n)$ for the automorphism group of $F_n$. These automorphism are groups are incredibly complicated: they are infinite objects and we'd like to learn more about them. For this reason a Mathematician called [Thierry Coulbois](https://www.i2m.univ-amu.fr/~coulbois/) is developing software that allows us to experiment with these groups. We can look for experimental evidence towards proving or disproving theorems by studying hundereds of randomly created automorphisms at the same time. \n",
    "\n",
    "### Thierry's software\n",
    "\n",
    "\n",
    "\n"
   ]
  }
 ],
 "metadata": {
  "kernelspec": {
   "display_name": "Python 3",
   "language": "python",
   "name": "python3"
  },
  "language_info": {
   "codemirror_mode": {
    "name": "ipython",
    "version": 3
   },
   "file_extension": ".py",
   "mimetype": "text/x-python",
   "name": "python",
   "nbconvert_exporter": "python",
   "pygments_lexer": "ipython3",
   "version": "3.5.1"
  }
 },
 "nbformat": 4,
 "nbformat_minor": 0
}
